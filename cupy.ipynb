{
  "nbformat": 4,
  "nbformat_minor": 0,
  "metadata": {
    "colab": {
      "provenance": [],
      "gpuType": "T4"
    },
    "kernelspec": {
      "name": "python3",
      "display_name": "Python 3"
    },
    "language_info": {
      "name": "python"
    },
    "accelerator": "GPU",
    "gpuClass": "standard"
  },
  "cells": [
    {
      "cell_type": "code",
      "source": [
        "import cupy as cp\n",
        "import numpy as np\n",
        "import contextlib\n",
        "import time\n",
        "from os import environ, cpu_count\n",
        "import multiprocessing\n",
        "import asyncio\n",
        "from time import sleep\n",
        "import locale\n",
        "\n",
        "locale.getpreferredencoding = lambda do_setlocale = True: \"UTF-8\"\n",
        "\n",
        "print(\"Modelo da GPU: \", end=\"\")\n",
        "!nvidia-smi -L\n",
        "\n",
        "print(\"Testando GPU\")\n",
        "x = cp.random.randint(-50, 50, size=(100, 100))\n",
        "x.dot(x)\n",
        "print(\"GPU funcionando!\")\n",
        "print(cpu_count())"
      ],
      "metadata": {
        "colab": {
          "base_uri": "https://localhost:8080/"
        },
        "id": "adAH3qUWwE-1",
        "outputId": "1c19fe94-e37c-4fd6-83c5-d396ee2a1627"
      },
      "execution_count": 2,
      "outputs": [
        {
          "output_type": "stream",
          "name": "stdout",
          "text": [
            "Modelo da GPU: GPU 0: Tesla T4 (UUID: GPU-11df96d5-bd4e-479a-b81d-2a2ea024da2e)\n",
            "Testando GPU\n",
            "GPU funcionando!\n",
            "2\n"
          ]
        }
      ]
    },
    {
      "cell_type": "code",
      "source": [
        "print(f\"Iniciando processamento com GPU ...\")\n",
        "\n",
        "times = []\n",
        "\n",
        "\n",
        "def average(lst):\n",
        "    return sum(lst) / len(lst)\n",
        "\n",
        "\n",
        "for i in range(5):\n",
        "    # size of arrays\n",
        "    n = 8000\n",
        "    # create an array of random values\n",
        "    data1 = cp.random.rand(n, n)\n",
        "    data2 = cp.random.rand(n, n)\n",
        "\n",
        "    start = time.time()\n",
        "\n",
        "    # run\n",
        "    data1.dot(data2)\n",
        "\n",
        "    end = time.time()\n",
        "    times.append(end - start)\n",
        "    print(f'Rodando {i+1} vez Tempo: {(end - start) * 1000} miliseconds')\n",
        "\n",
        "print(\"Tempo médio: \", average(times) * 1000, \"miliseconds\")\n"
      ],
      "metadata": {
        "id": "8HbC5e0hxUdg",
        "colab": {
          "base_uri": "https://localhost:8080/"
        },
        "outputId": "840037f7-06d1-4ed7-e1a9-b5e03f82889e"
      },
      "execution_count": 22,
      "outputs": [
        {
          "output_type": "stream",
          "name": "stdout",
          "text": [
            "Iniciando processamento com GPU ...\n",
            "Rodando 1 vez Tempo: 1.1081695556640625 miliseconds\n",
            "Rodando 2 vez Tempo: 0.06389617919921875 miliseconds\n",
            "Rodando 3 vez Tempo: 0.05507469177246094 miliseconds\n",
            "Rodando 4 vez Tempo: 0.04935264587402344 miliseconds\n",
            "Rodando 5 vez Tempo: 0.051975250244140625 miliseconds\n",
            "Tempo médio:  0.26569366455078125 miliseconds\n"
          ]
        }
      ]
    }
  ]
}